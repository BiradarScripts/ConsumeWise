{
  "nbformat": 4,
  "nbformat_minor": 0,
  "metadata": {
    "colab": {
      "provenance": [],
      "gpuType": "T4"
    },
    "kernelspec": {
      "name": "python3",
      "display_name": "Python 3"
    },
    "language_info": {
      "name": "python"
    },
    "accelerator": "GPU"
  },
  "cells": [
    {
      "cell_type": "code",
      "source": [
        "import requests\n",
        "\n",
        "# Define the API URL and endpoint\n",
        "url = \"https://7d7b-34-127-115-55.ngrok-free.app/invoke\"\n",
        "\n",
        "# Define the input data\n",
        "data = {\n",
        "    \"text\": \"my sugar level is high\"\n",
        "}\n",
        "\n",
        "# Send POST request to the API\n",
        "response = requests.post(url, json=data)\n",
        "\n",
        "# Get the JSON response and extract the LLM output\n",
        "response_data = response.json()\n",
        "llm_output = response_data.get('response', '')\n",
        "\n",
        "# Print the formatted response from the API\n",
        "print(\"LLM Response:\\n\")\n",
        "print(llm_output)\n",
        "\n"
      ],
      "metadata": {
        "id": "a9Xhhrmh-IqM",
        "colab": {
          "base_uri": "https://localhost:8080/"
        },
        "outputId": "11aa3833-5c4e-49f1-bbf5-4af46542ab43"
      },
      "execution_count": null,
      "outputs": [
        {
          "output_type": "stream",
          "name": "stdout",
          "text": [
            "LLM Response:\n",
            "\n",
            "High blood sugar levels can be concerning. Here are some steps you can take:\n",
            "\n",
            "1. **Stay calm**: High blood sugar is not an emergency, but it's essential to address it.\n",
            "2. **Check your symptoms**: Are you experiencing any symptoms like increased thirst, urination, blurred vision, or fatigue?\n",
            "3. **Consult a healthcare professional**: If you have diabetes or are taking medications for high blood sugar, contact your doctor or healthcare provider for guidance.\n",
            "4. **Drink water**: Staying hydrated can help lower your blood sugar levels.\n",
            "5. **Eat a balanced snack**: Choose something with protein and healthy fats to slow down the digestion of carbohydrates. Examples include:\n",
            "\t* Fresh fruits (e.g., apples, berries)\n",
            "\t* Nuts (almonds, walnuts)\n",
            "\t* Seeds (pumpkin seeds, sunflower seeds)\n",
            "\t* Greek yogurt\n",
            "6. **Exercise carefully**: Engage in light physical activity like a short walk or some stretching exercises to help lower your blood sugar.\n",
            "7. **Monitor your glucose levels**: If you have access to a glucometer, use it to track your progress.\n",
            "\n",
            "**Why is my sugar level high?**\n",
            "\n",
            "Some possible reasons for high blood sugar include:\n",
            "\n",
            "* Overconsumption of carbohydrates\n",
            "* Insulin resistance or diabetes\n",
            "* Certain medications (e.g., steroids)\n",
            "* Stress and cortisol levels\n",
            "* Dehydration\n",
            "\n",
            "If you're experiencing frequent high blood sugar episodes, it's crucial to discuss this with your healthcare provider to rule out any underlying conditions.\n",
            "\n",
            "Do you have any other symptoms or concerns related to your high blood sugar?\n"
          ]
        }
      ]
    },
    {
      "cell_type": "code",
      "source": [],
      "metadata": {
        "id": "doL1JFO4j1AX"
      },
      "execution_count": null,
      "outputs": []
    },
    {
      "cell_type": "code",
      "source": [],
      "metadata": {
        "id": "8CgRfX43gN0b"
      },
      "execution_count": null,
      "outputs": []
    },
    {
      "cell_type": "code",
      "source": [],
      "metadata": {
        "id": "g3VVwXiDfpvM"
      },
      "execution_count": null,
      "outputs": []
    },
    {
      "cell_type": "code",
      "source": [],
      "metadata": {
        "id": "zSaB-fJcfKD9"
      },
      "execution_count": null,
      "outputs": []
    },
    {
      "cell_type": "code",
      "source": [],
      "metadata": {
        "id": "Gz-yRZwqfA7h"
      },
      "execution_count": null,
      "outputs": []
    },
    {
      "cell_type": "code",
      "source": [],
      "metadata": {
        "id": "krRTjOWyeVEA"
      },
      "execution_count": null,
      "outputs": []
    },
    {
      "cell_type": "code",
      "source": [],
      "metadata": {
        "id": "udC5zb8S9RIb"
      },
      "execution_count": null,
      "outputs": []
    }
  ]
}